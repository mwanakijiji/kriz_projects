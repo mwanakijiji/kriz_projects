{
 "cells": [
  {
   "cell_type": "code",
   "execution_count": null,
   "id": "87ccf743",
   "metadata": {},
   "outputs": [],
   "source": [
    "# This reads in time-series data, bins it, and plots both\n",
    "\n",
    "# Created 2021 Dept. 18 by E.S."
   ]
  },
  {
   "cell_type": "code",
   "execution_count": 1,
   "id": "61dc6343",
   "metadata": {},
   "outputs": [],
   "source": [
    "import numpy as np\n",
    "import pandas as pd\n",
    "import matplotlib.pyplot as plt\n",
    "\n",
    "%matplotlib qt"
   ]
  },
  {
   "cell_type": "code",
   "execution_count": 2,
   "id": "1bb4493b",
   "metadata": {},
   "outputs": [],
   "source": [
    "# read in time-series\n",
    "# detrended_photom_0pt99_variance_0pt01_transit_1_col_star.csv\n",
    "# detrended_photom_0pt98_variance_0pt01_off_center_transit_1_col_star.csv\n",
    "# detrended_photom_0pt97_variance_0pt01_off_center_transit_1_col_star.csv\n",
    "# detrended_photom_0pt85_variance_0pt01_off_center_transit_1_col_star.csv\n",
    "# detrended_photom_0pt90_variance_0pt01_off_center_transit_1_col_star.csv\n",
    "\n",
    "photometry_df = pd.read_csv(\"../detrended_photom_0pt85_variance_0pt01_off_center_transit_1_col_star.csv\", \n",
    "                            index_col=\"Unnamed: 0\")\n",
    "\n",
    "# read in data with JD info and concatenate to photometry\n",
    "time_df = pd.read_csv(\"test_time_series_20210917.csv\", usecols=[\"jd-2459431\"])\n",
    "photometry_df = pd.concat([photometry_df,time_df], axis=1)"
   ]
  },
  {
   "cell_type": "code",
   "execution_count": 3,
   "id": "52324c60",
   "metadata": {},
   "outputs": [],
   "source": [
    "def error_bar_noise(data_pts):\n",
    "    '''\n",
    "    Generates error bars based on the number of data points in a bin\n",
    "    \n",
    "    INPUTS:\n",
    "    data_pts: the data\n",
    "    \n",
    "    OUTPUTS:\n",
    "    bar_length: the length of the error bar\n",
    "    '''\n",
    "    \n",
    "    bar_length = np.divide(np.std(data_pts),np.sqrt(len(data_pts)))\n",
    "    \n",
    "    return bar_length"
   ]
  },
  {
   "cell_type": "code",
   "execution_count": 4,
   "id": "8970c8df",
   "metadata": {},
   "outputs": [],
   "source": [
    "# configure binning\n",
    "\n",
    "bin_size = 5*0.00069444444 # 60 sec is 0.00069444444 day\n",
    "bin_edges = np.arange(start=np.min(time_df[\"jd-2459431\"]),stop=np.max(time_df[\"jd-2459431\"]),step=bin_size)\n",
    "bin_centers = np.add(0.5*(bin_edges[1]-bin_edges[0]),bin_edges[:-1])\n",
    "bin_labels = list(map(str,np.arange(0,len(bin_edges)-1)))"
   ]
  },
  {
   "cell_type": "code",
   "execution_count": 5,
   "id": "8bc7c0b4",
   "metadata": {},
   "outputs": [],
   "source": [
    "# put labels into a new column denoting which ranges of time are in which bin\n",
    "\n",
    "photometry_df[\"time_bin\"] = pd.cut(photometry_df[\"jd-2459431\"], bins=bin_edges, labels=bin_labels, right=False)"
   ]
  },
  {
   "cell_type": "code",
   "execution_count": 6,
   "id": "7d1265ee",
   "metadata": {},
   "outputs": [],
   "source": [
    "# choose the photometry to use\n",
    "# (note this is just a string for a column number, not a star number)\n",
    "# IF YOU'RE TESTING RETRIEVAL OF FAKE PLANET, THIS STAR WILL NEED TO BE THE\n",
    "# SAME AS THE ONE WITH THE TRANSIT\n",
    "\n",
    "col_of_choice = \"1\""
   ]
  },
  {
   "cell_type": "code",
   "execution_count": 7,
   "id": "77545e2c",
   "metadata": {},
   "outputs": [],
   "source": [
    "# make new array of means and error bars\n",
    "binned_photometry = []\n",
    "binned_photometry_error_bars = []\n",
    "\n",
    "for t in range(0,len(bin_labels)):\n",
    "    \n",
    "    # extract the datapoints corresponding to that value\n",
    "    photometry_this_bin = photometry_df[col_of_choice].where(photometry_df[\"time_bin\"] == bin_labels[t]).dropna()\n",
    "    \n",
    "    binned_photometry.append(np.mean(photometry_this_bin))\n",
    "    binned_photometry_error_bars.append(error_bar_noise(photometry_this_bin))"
   ]
  },
  {
   "cell_type": "code",
   "execution_count": 19,
   "id": "7735b6e7",
   "metadata": {},
   "outputs": [
    {
     "name": "stderr",
     "output_type": "stream",
     "text": [
      "<ipython-input-19-3611a39e7232>:1: FutureWarning: Dropping of nuisance columns in DataFrame reductions (with 'numeric_only=None') is deprecated; in a future version this will raise TypeError.  Select only valid columns before calling the reduction.\n",
      "  plt.plot(photometry_df.median(axis=0))\n"
     ]
    }
   ],
   "source": [
    "plt.plot(photometry_df.median(axis=0))\n",
    "plt.show()"
   ]
  },
  {
   "cell_type": "code",
   "execution_count": 8,
   "id": "a42be78b",
   "metadata": {},
   "outputs": [],
   "source": [
    "plt.clf()\n",
    "plt.scatter(photometry_df[\"jd-2459431\"],photometry_df[col_of_choice],s=2,alpha=0.5)\n",
    "plt.errorbar(bin_centers,binned_photometry,yerr=binned_photometry_error_bars,linestyle=\"\",ecolor=\"k\",capsize=5)\n",
    "#plt.ylim([7180,7280])\n",
    "plt.xlabel(\"JD-2459431\")\n",
    "plt.show()\n",
    "#plt.savefig(\"junk.pdf\")"
   ]
  },
  {
   "cell_type": "code",
   "execution_count": 91,
   "id": "d324ecc8",
   "metadata": {},
   "outputs": [
    {
     "data": {
      "text/plain": [
       "0.0051141664397614086"
      ]
     },
     "execution_count": 91,
     "metadata": {},
     "output_type": "execute_result"
    }
   ],
   "source": [
    "# fyi: typical percent precision we can get\n",
    "'''\n",
    "photom_prec = np.mean(np.divide(binned_photometry_error_bars,binned_photometry))\n",
    "print(photom_prec)\n",
    "'''"
   ]
  }
 ],
 "metadata": {
  "kernelspec": {
   "display_name": "Python 3",
   "language": "python",
   "name": "python3"
  },
  "language_info": {
   "codemirror_mode": {
    "name": "ipython",
    "version": 3
   },
   "file_extension": ".py",
   "mimetype": "text/x-python",
   "name": "python",
   "nbconvert_exporter": "python",
   "pygments_lexer": "ipython3",
   "version": "3.8.8"
  }
 },
 "nbformat": 4,
 "nbformat_minor": 5
}
