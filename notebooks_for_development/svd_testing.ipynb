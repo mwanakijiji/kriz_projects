{
 "cells": [
  {
   "cell_type": "code",
   "execution_count": null,
   "id": "cf70e01a",
   "metadata": {},
   "outputs": [],
   "source": [
    "# This tests out methodology for doing PCA decomposition and dimensionality\n",
    "# reduction of empirical data with SVD\n",
    "\n",
    "# Created 2021 Sept. 18 by E.S."
   ]
  },
  {
   "cell_type": "code",
   "execution_count": 1,
   "id": "db7df11f",
   "metadata": {},
   "outputs": [],
   "source": [
    "import pandas as pd\n",
    "import numpy as np\n",
    "import matplotlib.pyplot as plt\n",
    "from sklearn.preprocessing import StandardScaler\n",
    "from scipy import linalg\n",
    "\n",
    "%matplotlib inline"
   ]
  },
  {
   "cell_type": "code",
   "execution_count": 30,
   "id": "36617949",
   "metadata": {},
   "outputs": [],
   "source": [
    "# return number of PCA components that explain X amount of variance\n",
    "# (note number can be a decimal)\n",
    "\n",
    "def num_comps_var(variance_expl,variance_target):\n",
    "    '''\n",
    "    INPUTS: \n",
    "    variance_expl: the cumulative explained variance\n",
    "    variance_target: the variance we want to account for (decimal)\n",
    "    \n",
    "    OUTPUTS:\n",
    "    comps_interp: the number of modes (will be a decimal interpolation, \n",
    "        to allow user to decide whether to round up or down)\n",
    "    '''\n",
    "\n",
    "    # abcissa (number of components); start with 1\n",
    "    abcissa = np.add(1.,np.arange(len(variance_expl)))\n",
    "\n",
    "    # interpolate (note a flipping of axes is necessary)\n",
    "    comps_interp = np.interp(x=variance_target,xp=variance_expl,fp=abcissa)\n",
    "\n",
    "    return comps_interp"
   ]
  },
  {
   "cell_type": "code",
   "execution_count": 2,
   "id": "d34317c3",
   "metadata": {},
   "outputs": [],
   "source": [
    "time_series = pd.read_csv(\"test_time_series_20210917.csv\", index_col=0)"
   ]
  },
  {
   "cell_type": "code",
   "execution_count": 3,
   "id": "cf8bfd5f",
   "metadata": {},
   "outputs": [],
   "source": [
    "# make list of brightest stars (and exclude colums with other data)\n",
    "\n",
    "list_brightest = [] # initialize list of brightest stars\n",
    "for (columnName, columnData) in time_series.iteritems():\n",
    "    #print(type(columnData[0]))\n",
    "    if (columnName != \"fit_file_name\" and columnName != \"jd-2459431\" and columnName != \"jd_helio-2459431\"):\n",
    "        if (np.median(columnData.values) > 5000):\n",
    "            #plt.plot(columnData.values)\n",
    "            #plt.annotate(str(columnName), xy=(2300,np.median(columnData.values)), xycoords=\"data\")\n",
    "            list_brightest.append(str(columnName))"
   ]
  },
  {
   "cell_type": "code",
   "execution_count": null,
   "id": "d60f1f0e",
   "metadata": {},
   "outputs": [],
   "source": [
    "# option to remove any stars that may be intrinsically variable\n",
    "\n",
    "#list_brightest.remove(\"25\")\n",
    "#list_brightest.remove(\"271\")"
   ]
  },
  {
   "cell_type": "code",
   "execution_count": null,
   "id": "12de013c",
   "metadata": {},
   "outputs": [],
   "source": [
    "# select the bright stars we want, and whiten the data\n",
    "# (note that this data subset is not a DataFrame, and \n",
    "# we access columns by location)\n",
    "\n",
    "# separate out the photometry from the brightest stars\n",
    "x = time_series.loc[:, list_brightest].values"
   ]
  },
  {
   "cell_type": "code",
   "execution_count": null,
   "id": "a9f2b834",
   "metadata": {},
   "outputs": [],
   "source": [
    "## BEGIN OPTION TO INJECT FAKE TRANSIT\n",
    "\n",
    "'''\n",
    "# column number to inject fake transit into\n",
    "col_fake_transit = 10\n",
    "\n",
    "abcissa_time = time_series[\"jd-2459431\"]\n",
    "# generate transit model\n",
    "tm = QuadraticModel()\n",
    "tm.set_data(abcissa_time)\n",
    "# note t0 is time-of-center\n",
    "# (k=0.1 gives transit depth of approx 1%)\n",
    "model_transit = tm.evaluate(k=0.1, ldc=[0.2, 0.1], t0=0.6, p=0.7, a=3.0, i=0.5*np.pi)\n",
    "noisy_transit = np.multiply(x[:,col_fake_transit],model_transit)\n",
    "\n",
    "# a scaling of the model to guide the eye on plot\n",
    "transit_fyi_visual = np.multiply(0.5*np.median(x[:,col_fake_transit]),model_transit)\n",
    "\n",
    "# replace real photometry with fake\n",
    "x[:,col_fake_transit] = noisy_transit\n",
    "'''\n",
    "\n",
    "## END OPTION TO INJECT FAKE TRANSIT"
   ]
  },
  {
   "cell_type": "code",
   "execution_count": null,
   "id": "6cc62384",
   "metadata": {},
   "outputs": [],
   "source": [
    "# plot to show transits\n",
    "\n",
    "'''\n",
    "plt.plot(abcissa_time,time_series[\"121\"],label=\"original\")\n",
    "plt.plot(abcissa_time,noisy_transit,label=\"transit\")\n",
    "plt.plot(abcissa_time,transit_visual, linestyle=\"--\", color=\"k\")\n",
    "plt.legend()\n",
    "plt.show()\n",
    "'''"
   ]
  },
  {
   "cell_type": "code",
   "execution_count": 4,
   "id": "a383df22",
   "metadata": {},
   "outputs": [],
   "source": [
    "# standardize the photometry (i.e., whiten the data)\n",
    "scaler = StandardScaler() # this conveniently let us retrieve attributes (mean, offset) for reconstruction\n",
    "x_scaled = scaler.fit_transform(x) # whiten"
   ]
  },
  {
   "cell_type": "code",
   "execution_count": 5,
   "id": "fd6dd137",
   "metadata": {},
   "outputs": [],
   "source": [
    "# decompose with SVD\n",
    "\n",
    "U, s, Vh = linalg.svd(x_scaled)\n",
    "\n",
    "# turn s into the full sigma matrix\n",
    "sigma = np.zeros((U.shape[0], Vh.shape[0]))\n",
    "for i in range(min(U.shape[0], Vh.shape[0])):\n",
    "    sigma[i, i] = s[i]"
   ]
  },
  {
   "cell_type": "code",
   "execution_count": 28,
   "id": "cb388535",
   "metadata": {},
   "outputs": [],
   "source": [
    "# determine cumulative explained variance\n",
    "\n",
    "# note the diagonal values in the sigma matrix are the \n",
    "# 'singular values', or the square roots of the eigenvalues \n",
    "# of x_scaled.T*x_scaled; they are squared to show the contribution\n",
    "# of that mode to the variance\n",
    "\n",
    "variance_explained = []\n",
    "eigen_vals = np.power(s,2.)\n",
    "for i in eigen_vals:\n",
    "    variance_explained.append((i/sum(eigen_vals)))\n",
    "\n",
    "cumulative_variance_explained = np.cumsum(variance_explained)"
   ]
  },
  {
   "cell_type": "code",
   "execution_count": 33,
   "id": "8af4ce59",
   "metadata": {},
   "outputs": [],
   "source": [
    "test = num_comps_var(variance_expl=cumulative_variance_explained,variance_target=0.99)"
   ]
  },
  {
   "cell_type": "code",
   "execution_count": 34,
   "id": "1346ea8f",
   "metadata": {},
   "outputs": [
    {
     "data": {
      "text/plain": [
       "33.49363253386655"
      ]
     },
     "execution_count": 34,
     "metadata": {},
     "output_type": "execute_result"
    }
   ],
   "source": [
    "## ## USER DECISIONS HERE"
   ]
  },
  {
   "cell_type": "code",
   "execution_count": 6,
   "id": "05dffc97",
   "metadata": {},
   "outputs": [],
   "source": [
    "# reconstruct original matrix ON LOWER DIMS\n",
    "\n",
    "N = 20 # modes to keep\n",
    "\n",
    "x_scaled_lower = np.dot(U, np.dot(sigma[:,:N], Vh[:N,:]))"
   ]
  },
  {
   "cell_type": "code",
   "execution_count": 20,
   "id": "29a8f7e5",
   "metadata": {},
   "outputs": [],
   "source": [
    "# de-trend the photometry of ALL the stars by subtracting the lower-dim reconstruction\n",
    "# (note this photometry has not been reverse-whitened yet)\n",
    "\n",
    "photometry_detrend_white = np.subtract(x_scaled,x_scaled_lower)"
   ]
  },
  {
   "cell_type": "code",
   "execution_count": 23,
   "id": "91d5d8a3",
   "metadata": {},
   "outputs": [],
   "source": [
    "# make full PCA-reconstruction, based on lower-dimensional basis set, \n",
    "# by reverse-whitening (up until now we have only PCA-reconstructed \n",
    "# the whitened data)\n",
    "\n",
    "# note the same functionality is in .inverse_transform(), but the below\n",
    "# is clearer to me\n",
    "\n",
    "# test to see we get same as original\n",
    "x_recon_exact = np.add(np.multiply(x_scaled,scaler.scale_),scaler.mean_)\n",
    "# from lower-dim basis set, but without having done de-trending\n",
    "x_recon_lower = np.add(np.multiply(x_scaled_lower,scaler.scale_),scaler.mean_)\n",
    "# with detrending\n",
    "x_recon_detrend = np.add(np.multiply(photometry_detrend_white,scaler.scale_),scaler.mean_)\n",
    "\n",
    "# choose one detrended star\n",
    "col_to_use = 27\n",
    "x_recon_detrend_one = x_recon_detrend[:,col_to_use]\n",
    "\n",
    "#scaler.mean_\n",
    "#x_scaled = StandardScaler().fit_transform(x)"
   ]
  },
  {
   "cell_type": "code",
   "execution_count": 24,
   "id": "ddca6a4a",
   "metadata": {},
   "outputs": [
    {
     "data": {
      "image/png": "[encoded data removed]",
      "text/plain": [
       "<Figure size 432x288 with 1 Axes>"
      ]
     },
     "metadata": {
      "needs_background": "light"
     },
     "output_type": "display_data"
    }
   ],
   "source": [
    "# fyi plots\n",
    "\n",
    "'''\n",
    "plt.plot(x[:,col_to_use], label=\"original\")\n",
    "plt.plot(np.subtract(x_recon_exact[:,col_to_use],0), label=\"reverse-whitened, exact (w offset)\")\n",
    "plt.plot(x_recon_lower[:,col_to_use], label=\"reverse-whitened, lower basis set\")\n",
    "plt.plot(x_recon_detrend[:,col_to_use], label=\"w detrending\")\n",
    "plt.legend()\n",
    "plt.show()\n",
    "'''"
   ]
  }
 ],
 "metadata": {
  "kernelspec": {
   "display_name": "Python 3",
   "language": "python",
   "name": "python3"
  },
  "language_info": {
   "codemirror_mode": {
    "name": "ipython",
    "version": 3
   },
   "file_extension": ".py",
   "mimetype": "text/x-python",
   "name": "python",
   "nbconvert_exporter": "python",
   "pygments_lexer": "ipython3",
   "version": "3.8.8"
  }
 },
 "nbformat": 4,
 "nbformat_minor": 5
}
