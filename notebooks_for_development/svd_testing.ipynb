{
 "cells": [
  {
   "cell_type": "code",
   "execution_count": null,
   "id": "174b8c47",
   "metadata": {},
   "outputs": [],
   "source": [
    "# This tests out methodology for doing PCA decomposition and dimensionality\n",
    "# reduction of empirical data with SVD\n",
    "\n",
    "# Created 2021 Sept. 18 by E.S."
   ]
  },
  {
   "cell_type": "code",
   "execution_count": 33,
   "id": "dea435b2",
   "metadata": {},
   "outputs": [],
   "source": [
    "import pandas as pd\n",
    "import numpy as np\n",
    "import matplotlib.pyplot as plt\n",
    "from sklearn.preprocessing import StandardScaler\n",
    "from scipy import linalg\n",
    "\n",
    "%matplotlib qt"
   ]
  },
  {
   "cell_type": "code",
   "execution_count": 2,
   "id": "1bb92722",
   "metadata": {},
   "outputs": [],
   "source": [
    "time_series = pd.read_csv(\"test_time_series_20210917.csv\", index_col=0)"
   ]
  },
  {
   "cell_type": "code",
   "execution_count": 3,
   "id": "6982197b",
   "metadata": {},
   "outputs": [
    {
     "data": {
      "text/plain": [
       "Index(['0', '1', '2', '3', '4', '5', '6', '7', '8', '9',\n",
       "       ...\n",
       "       '295', '296', '297', '298', '299', '300', '301', 'fit_file_name',\n",
       "       'jd-2459431', 'jd_helio-2459431'],\n",
       "      dtype='object', length=305)"
      ]
     },
     "execution_count": 3,
     "metadata": {},
     "output_type": "execute_result"
    }
   ],
   "source": [
    "time_series.keys()"
   ]
  },
  {
   "cell_type": "code",
   "execution_count": 4,
   "id": "6f4f4bfb",
   "metadata": {},
   "outputs": [],
   "source": [
    "# make list of brightest stars (and exclude colums with other data)\n",
    "\n",
    "list_brightest = [] # initialize list of brightest stars\n",
    "for (columnName, columnData) in time_series.iteritems():\n",
    "    #print(type(columnData[0]))\n",
    "    if (columnName != \"fit_file_name\" and columnName != \"jd-2459431\" and columnName != \"jd_helio-2459431\"):\n",
    "        if (np.median(columnData.values) > 5000):\n",
    "            #plt.plot(columnData.values)\n",
    "            #plt.annotate(str(columnName), xy=(2300,np.median(columnData.values)), xycoords=\"data\")\n",
    "            list_brightest.append(str(columnName))"
   ]
  },
  {
   "cell_type": "code",
   "execution_count": 5,
   "id": "51817fba",
   "metadata": {},
   "outputs": [],
   "source": [
    "# select the bright stars we want, and whiten the data\n",
    "\n",
    "# separate out the photometry from the brightest stars\n",
    "x = time_series.loc[:, list_brightest].values\n",
    "\n",
    "# standardize the photometry\n",
    "x_scaled = StandardScaler().fit_transform(x)"
   ]
  },
  {
   "cell_type": "code",
   "execution_count": 10,
   "id": "3efd79f3",
   "metadata": {},
   "outputs": [],
   "source": [
    "# decompose with SVD\n",
    "\n",
    "U, s, Vh = linalg.svd(x_scaled)\n",
    "\n",
    "# turn s into the full sigma matrix\n",
    "sigma = np.zeros((U.shape[0], Vh.shape[0]))\n",
    "for i in range(min(U.shape[0], Vh.shape[0])):\n",
    "    sigma[i, i] = s[i]"
   ]
  },
  {
   "cell_type": "code",
   "execution_count": 11,
   "id": "5689d1b4",
   "metadata": {},
   "outputs": [
    {
     "data": {
      "text/plain": [
       "True"
      ]
     },
     "execution_count": 11,
     "metadata": {},
     "output_type": "execute_result"
    }
   ],
   "source": [
    "# reconstruct original matrix\n",
    "\n",
    "x_scaled_recon = np.dot(U, np.dot(sigma, Vh))\n",
    "np.allclose(x_scaled, x_scaled_recon)"
   ]
  },
  {
   "cell_type": "code",
   "execution_count": 12,
   "id": "81d32c5b",
   "metadata": {},
   "outputs": [
    {
     "name": "stdout",
     "output_type": "stream",
     "text": [
      "(2302, 2302)\n",
      "(2302, 58)\n",
      "(58, 58)\n"
     ]
    }
   ],
   "source": [
    "print(U.shape)\n",
    "print(sigma.shape)\n",
    "print(Vh.shape)"
   ]
  },
  {
   "cell_type": "code",
   "execution_count": 35,
   "id": "a0644094",
   "metadata": {},
   "outputs": [
    {
     "data": {
      "text/plain": [
       "False"
      ]
     },
     "execution_count": 35,
     "metadata": {},
     "output_type": "execute_result"
    }
   ],
   "source": [
    "# reconstruct original matrix ON LOWER DIMS\n",
    "\n",
    "N = 20\n",
    "x_scaled_lower = np.dot(U, np.dot(sigma[:,:N], Vh[:N,:]))\n",
    "np.allclose(x_scaled, x_scaled_recon)"
   ]
  },
  {
   "cell_type": "code",
   "execution_count": 36,
   "id": "670f302c",
   "metadata": {},
   "outputs": [],
   "source": [
    "star_to_use = 27\n",
    "\n",
    "test_photometry_decorr = np.subtract(x_scaled[:,star_to_use],x_scaled_lower[:,star_to_use])\n",
    "plt.plot(x_scaled[:,star_to_use], label=\"original\")\n",
    "plt.plot(x_scaled_lower[:,star_to_use], label=\"lower\")\n",
    "plt.plot(test_photometry_decorr, label=\"decorrelated\")\n",
    "plt.legend()\n",
    "plt.show()"
   ]
  }
 ],
 "metadata": {
  "kernelspec": {
   "display_name": "Python 3",
   "language": "python",
   "name": "python3"
  },
  "language_info": {
   "codemirror_mode": {
    "name": "ipython",
    "version": 3
   },
   "file_extension": ".py",
   "mimetype": "text/x-python",
   "name": "python",
   "nbconvert_exporter": "python",
   "pygments_lexer": "ipython3",
   "version": "3.8.8"
  }
 },
 "nbformat": 4,
 "nbformat_minor": 5
}
