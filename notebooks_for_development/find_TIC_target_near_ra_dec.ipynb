{
 "cells": [
  {
   "cell_type": "code",
   "execution_count": null,
   "id": "0b175a15",
   "metadata": {},
   "outputs": [],
   "source": [
    "# This searches for TIC targets around a given RA,DEC or object\n",
    "\n",
    "# Created 2021 Oct 21 by E.S., mostly taken from\n",
    "# https://spacetelescope.github.io/notebooks/notebooks/MAST/TESS/beginner_tic_search_hd209458/beginner_tic_search_hd209458.html"
   ]
  },
  {
   "cell_type": "code",
   "execution_count": 14,
   "id": "ba140276",
   "metadata": {},
   "outputs": [],
   "source": [
    "from astroquery.mast import Catalogs\n",
    "import numpy as np\n",
    "import matplotlib.pyplot as plt"
   ]
  },
  {
   "cell_type": "code",
   "execution_count": 12,
   "id": "2e8c3dff",
   "metadata": {},
   "outputs": [],
   "source": [
    "#target_name = \"TYC 2923-475-1\"\n",
    "ra_dec_deg_name = \"87.5049833 44.1893539\"\n",
    "search_radius_deg = 0.15"
   ]
  },
  {
   "cell_type": "code",
   "execution_count": 13,
   "id": "f4d38c07",
   "metadata": {},
   "outputs": [
    {
     "name": "stdout",
     "output_type": "stream",
     "text": [
      "Number of TIC objects within 0.150000 deg of TYC 2923-475-1: 2137\n"
     ]
    }
   ],
   "source": [
    "# Query the TESS Input Catalog centered on object with a N degree radius.\n",
    "catalogTIC = Catalogs.query_object(ra_dec_deg_name, radius=search_radius_deg, catalog=\"TIC\")\n",
    "\n",
    "# Print out the number of returned rows.\n",
    "print(\"Number of TIC objects within %f deg of %s: %u\" % (search_radius_deg, target_name, len(catalogTIC)))"
   ]
  },
  {
   "cell_type": "code",
   "execution_count": 9,
   "id": "69a0f015",
   "metadata": {},
   "outputs": [
    {
     "name": "stdout",
     "output_type": "stream",
     "text": [
      "Closest TIC ID to TYC 2923-475-1: TIC 701323645, separation of 3.688648 arcsec. and a TESS mag. of 20.019800\n"
     ]
    }
   ],
   "source": [
    "# closest object\n",
    "\n",
    "'''\n",
    "where_closest = np.argmin(catalogTIC['dstArcSec'])\n",
    "\n",
    "print(\"Closest TIC ID to %s: TIC %s, separation of %f arcsec. and a TESS mag. of %f\"%\n",
    "      (target_name, catalogTIC['ID'][where_closest], catalogTIC['dstArcSec'][where_closest],\n",
    "      catalogTIC['Tmag'][where_closest]))\n",
    "'''"
   ]
  },
  {
   "cell_type": "code",
   "execution_count": 15,
   "id": "bfec1fa2",
   "metadata": {},
   "outputs": [
    {
     "data": {
      "image/png": "[encoded data removed]",
      "text/plain": [
       "<Figure size 640x480 with 1 Axes>"
      ]
     },
     "metadata": {},
     "output_type": "display_data"
    }
   ],
   "source": [
    "plt.hist(catalogTIC[\"Vmag\"])\n",
    "plt.show()"
   ]
  },
  {
   "cell_type": "code",
   "execution_count": 24,
   "id": "845b23e8",
   "metadata": {},
   "outputs": [],
   "source": [
    "# impose two conditions:\n",
    "# 1) Vmag brighter than 15\n",
    "# 2) 0.15 degrees (540 arcsec) from center of frame\n",
    "\n",
    "catalogTIC_subset = catalogTIC\n",
    "mask = np.logical_and(catalogTIC['Vmag'] < 15.0, catalogTIC['dstArcSec'] < 540)"
   ]
  },
  {
   "cell_type": "code",
   "execution_count": 29,
   "id": "0600881a",
   "metadata": {},
   "outputs": [
    {
     "name": "stdout",
     "output_type": "stream",
     "text": [
      "98946196\n",
      "98946192\n",
      "440185687\n",
      "440185751\n",
      "98946171\n",
      "440185749\n",
      "98946225\n",
      "440185658\n",
      "98946205\n",
      "98946259\n",
      "440185761\n",
      "98946175\n",
      "98946149\n",
      "98946130\n",
      "98946282\n",
      "440185647\n",
      "98946134\n",
      "440185717\n",
      "440185690\n",
      "440185775\n",
      "440185776\n",
      "440185591\n",
      "98946261\n",
      "98946157\n",
      "440185738\n",
      "440185718\n",
      "440185587\n",
      "98946107\n",
      "98946115\n",
      "98946247\n",
      "440185725\n",
      "98946204\n",
      "440185627\n",
      "440185741\n",
      "98946300\n",
      "440185885\n",
      "440185858\n",
      "440185831\n",
      "98946239\n",
      "98946064\n",
      "98946361\n",
      "98946281\n",
      "98946329\n",
      "440185659\n",
      "440185571\n",
      "440185841\n",
      "98946112\n",
      "98946094\n",
      "440185764\n",
      "98946320\n",
      "98946048\n",
      "440216645\n",
      "98946381\n",
      "440216648\n",
      "98946324\n",
      "274152544\n",
      "98946122\n",
      "440216641\n",
      "98946113\n",
      "274152472\n",
      "98946340\n",
      "98946356\n",
      "98946397\n",
      "440185549\n",
      "98946097\n",
      "98946027\n",
      "98946396\n",
      "98946345\n",
      "274152553\n",
      "440185903\n",
      "440185869\n",
      "701324740\n",
      "98946375\n",
      "440216599\n",
      "274152463\n",
      "98946068\n",
      "440185455\n",
      "98946418\n",
      "440185935\n",
      "440216468\n",
      "98946419\n",
      "440185479\n",
      "98946031\n",
      "98946417\n",
      "98946415\n",
      "98946370\n",
      "98946424\n",
      "98946427\n",
      "440216466\n"
     ]
    }
   ],
   "source": [
    "for id in catalogTIC[mask][\"ID\"]:\n",
    "    print(id)"
   ]
  },
  {
   "cell_type": "code",
   "execution_count": null,
   "id": "1bc26039",
   "metadata": {},
   "outputs": [],
   "source": []
  }
 ],
 "metadata": {
  "kernelspec": {
   "display_name": "Python 3",
   "language": "python",
   "name": "python3"
  },
  "language_info": {
   "codemirror_mode": {
    "name": "ipython",
    "version": 3
   },
   "file_extension": ".py",
   "mimetype": "text/x-python",
   "name": "python",
   "nbconvert_exporter": "python",
   "pygments_lexer": "ipython3",
   "version": "3.8.8"
  }
 },
 "nbformat": 4,
 "nbformat_minor": 5
}
