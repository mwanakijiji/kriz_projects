{
 "cells": [
  {
   "cell_type": "code",
   "execution_count": null,
   "id": "1ad312d8",
   "metadata": {},
   "outputs": [],
   "source": [
    "# This reads in images and makes simple measurements of the background light levels\n",
    "\n",
    "# Created 2021 Oct 21 by E.S."
   ]
  },
  {
   "cell_type": "code",
   "execution_count": 1,
   "id": "ea9cd382",
   "metadata": {},
   "outputs": [],
   "source": [
    "from astropy.io import fits\n",
    "import numpy as np\n",
    "import glob\n",
    "import os\n",
    "import scipy\n",
    "from scipy import signal\n",
    "import matplotlib.pyplot as plt"
   ]
  },
  {
   "cell_type": "code",
   "execution_count": 2,
   "id": "f5c981f1",
   "metadata": {},
   "outputs": [
    {
     "data": {
      "text/plain": [
       "'\\ndir_src = stem + \"/calibrated_sci_data_preregistration\"\\ndir_write = stem + \"/calibrated_sci_data_registered\"\\nfile_list_lights_src = sorted(glob.glob(dir_src + \"/*fit\"))\\n'"
      ]
     },
     "execution_count": 2,
     "metadata": {},
     "output_type": "execute_result"
    }
   ],
   "source": [
    "# directory of images which have already been bias-, dark- and flat-corrected\n",
    "\n",
    "#stem = \"/Users/bandari/Documents/postdoc_notre_dame/kriz_data/data_20211018/processed_sci_data_registered\"\n",
    "stem = \"/Users/bandari/Documents/postdoc_notre_dame/kriz_data/data_20211019/calibrated_sci_data_preregistration\"\n",
    "\n",
    "'''\n",
    "dir_src = stem + \"/calibrated_sci_data_preregistration\"\n",
    "dir_write = stem + \"/calibrated_sci_data_registered\"\n",
    "file_list_lights_src = sorted(glob.glob(dir_src + \"/*fit\"))\n",
    "'''"
   ]
  },
  {
   "cell_type": "code",
   "execution_count": 3,
   "id": "d7e5cd4b",
   "metadata": {},
   "outputs": [],
   "source": [
    "file_list_lights_src = sorted(glob.glob(stem + \"/*fit\"))"
   ]
  },
  {
   "cell_type": "code",
   "execution_count": 5,
   "id": "77dd39a5",
   "metadata": {},
   "outputs": [],
   "source": [
    "# loop over the images, find median\n",
    "\n",
    "jd_array = np.nan*np.ones(len(file_list_lights_src))\n",
    "median_per_pix_array = np.nan*np.ones(len(file_list_lights_src))\n",
    "amass_array = np.nan*np.ones(len(file_list_lights_src))\n",
    "\n",
    "for i in range(0,len(file_list_lights_src)):\n",
    "    \n",
    "    frame_this_obj = fits.open(file_list_lights_src[i])\n",
    "    frame_this = frame_this_obj[0].data\n",
    "    jd = np.mod(frame_this_obj[0].header[\"JD\"],1)\n",
    "    median_this = np.median(frame_this)\n",
    "    #amass_this = frame_this_obj[0].header[\"AIRMASS\"]\n",
    "    \n",
    "    jd_array[i] = jd\n",
    "    median_per_pix_array[i] = median_this # 'pix' here is a pixel-squared\n",
    "    #amass_array[i] = amass_this"
   ]
  },
  {
   "cell_type": "code",
   "execution_count": 6,
   "id": "1718f405",
   "metadata": {},
   "outputs": [],
   "source": [
    "# convert counts per pixel to counts per arcsec^2\n",
    "\n",
    "PS = 1.56 # asec / pix (where 'pix' is the length of one side of a pixel; note different definition from above)\n",
    "median_per_asec_sq_array = np.divide(median_per_pix_array,PS**2.)"
   ]
  },
  {
   "cell_type": "code",
   "execution_count": 7,
   "id": "87eff8ae",
   "metadata": {},
   "outputs": [],
   "source": [
    "# counts conversion factor\n",
    "\n",
    "# brightest star in 20211018 dataset, TYC 2923-475-1, which is ~10.8 mag in R: about 106k counts\n",
    "del_mag_array = -2.5*np.log10(median_per_asec_sq_array/106e3) # this is 'delta mag between counts per pixel and star in R-band'\n",
    "abs_mag_array = 10.8+del_mag_array"
   ]
  },
  {
   "cell_type": "code",
   "execution_count": 10,
   "id": "a0700bb8",
   "metadata": {},
   "outputs": [],
   "source": [
    "fig, ax1 = plt.subplots()\n",
    "#plt.gca().invert_yaxis()\n",
    "ax1.plot(jd_array,abs_mag_array,color=\"k\")\n",
    "#ax1.plot(jd_array,np.add(amass_array))\n",
    "ax1.set_xlabel(\"Modulo JD\")\n",
    "ax1.set_ylabel(\"Mags in R-band per arcsec^2\")\n",
    "ax1.set_ylim(ax1.get_ylim()[::-1])\n",
    "\n",
    "#ax2 = ax1.twinx() \n",
    "#ax2.plot(jd_array,amass_array,linestyle=\"--\",color=\"red\")\n",
    "#ax2.set_ylabel(\"Airmass\", color=\"red\")\n",
    "\n",
    "plt.suptitle(\"2021 Oct 19 dataset\")\n",
    "plt.savefig(\"junk.pdf\")"
   ]
  },
  {
   "cell_type": "code",
   "execution_count": null,
   "id": "995d4447",
   "metadata": {},
   "outputs": [],
   "source": []
  }
 ],
 "metadata": {
  "kernelspec": {
   "display_name": "Python 3",
   "language": "python",
   "name": "python3"
  },
  "language_info": {
   "codemirror_mode": {
    "name": "ipython",
    "version": 3
   },
   "file_extension": ".py",
   "mimetype": "text/x-python",
   "name": "python",
   "nbconvert_exporter": "python",
   "pygments_lexer": "ipython3",
   "version": "3.8.8"
  }
 },
 "nbformat": 4,
 "nbformat_minor": 5
}
