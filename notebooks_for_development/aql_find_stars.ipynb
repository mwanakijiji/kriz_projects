{
 "cells": [
  {
   "cell_type": "code",
   "execution_count": null,
   "id": "89fed9a9",
   "metadata": {},
   "outputs": [],
   "source": [
    "# This finds the stars in images of V1432 Aql\n",
    "\n",
    "# Created 2021 Aug. 19 by E.S."
   ]
  },
  {
   "cell_type": "code",
   "execution_count": 54,
   "id": "2be69172",
   "metadata": {},
   "outputs": [],
   "source": [
    "import numpy as np\n",
    "from astropy.stats import sigma_clipped_stats\n",
    "from photutils.detection import DAOStarFinder\n",
    "from photutils.aperture import CircularAperture\n",
    "from astropy.visualization import SqrtStretch\n",
    "from astropy.visualization.mpl_normalize import ImageNormalize\n",
    "import matplotlib.pyplot as plt\n",
    "from astropy.io import fits, ascii\n",
    "import glob\n",
    "import os\n",
    "\n",
    "%matplotlib qt"
   ]
  },
  {
   "cell_type": "code",
   "execution_count": 19,
   "id": "44e1ed26",
   "metadata": {},
   "outputs": [],
   "source": [
    "stem_data = \"/Users/bandari/Documents/git.repos/kriz_projects/data/2021-08-04/\""
   ]
  },
  {
   "cell_type": "code",
   "execution_count": 44,
   "id": "1a1fd549",
   "metadata": {},
   "outputs": [],
   "source": [
    "# star images\n",
    "file_names_stars = sorted(glob.glob(stem_data + \"V1432_Aql-*fit\"))\n",
    "\n",
    "# darks\n",
    "file_names_darks = sorted(glob.glob(stem_data + \"d*fit\"))\n",
    "\n",
    "# flats\n",
    "file_names_flats = sorted(glob.glob(stem_data + \"flat*fit\"))"
   ]
  },
  {
   "cell_type": "code",
   "execution_count": 45,
   "id": "02fc562f",
   "metadata": {},
   "outputs": [],
   "source": [
    "# make a master dark\n",
    "\n",
    "cube_dark = np.zeros((len(file_names_darks),512,512))\n",
    "for num_dark in range(0,len(file_names_darks)):\n",
    "    data = fits.open(file_names_darks[0])[0].data\n",
    "    cube_dark[num_dark,:,:] = data\n",
    "master_dark = np.mean(cube_dark,axis=0)\n",
    "\n",
    "# make a master flat\n",
    "\n",
    "cube_flat = np.zeros((len(file_names_flats),512,512))\n",
    "for num_flat in range(0,len(file_names_flats)):\n",
    "    data = fits.open(file_names_flats[0])[0].data\n",
    "    cube_flat[num_flat,:,:] = data\n",
    "master_flat = np.mean(cube_flat,axis=0)"
   ]
  },
  {
   "cell_type": "code",
   "execution_count": 38,
   "id": "c364dde0",
   "metadata": {},
   "outputs": [],
   "source": [
    "for num_star_frame in range(0,len(file_names_stars)):\n",
    "\n",
    "    # get some stats for centroiding\n",
    "    data = fits.open(file_names_stars[0])[0].data\n",
    "    mean, median, std = sigma_clipped_stats(data, sigma=3.0)\n",
    "\n",
    "    # find the stars\n",
    "    daofind = DAOStarFinder(fwhm=3.0, threshold=5.*std)  \n",
    "    sources = daofind(data - median)  \n",
    "    for col in sources.colnames:  \n",
    "        sources[col].info.format = '%.8g'  # for consistent table output\n",
    "\n",
    "    # write out\n",
    "    text_file_name = os.path.basename(file_names_stars).split(\".\")[-1]+\".dat\"\n",
    "    ascii.write(sources, \"output_other/\"+text_file_name, overwrite=False)"
   ]
  },
  {
   "cell_type": "code",
   "execution_count": 42,
   "id": "a5e95e03",
   "metadata": {},
   "outputs": [],
   "source": [
    "'''\n",
    "# for plotting\n",
    "positions = np.transpose((sources['xcentroid'], sources['ycentroid']))\n",
    "apertures = CircularAperture(positions, r=4.)\n",
    "norm = ImageNormalize(stretch=SqrtStretch())\n",
    "plt.imshow(data, cmap='Greys', origin='lower', norm=norm,\n",
    "           interpolation='nearest')\n",
    "apertures.plot(color='blue', lw=1.5, alpha=0.5)\n",
    "'''"
   ]
  }
 ],
 "metadata": {
  "kernelspec": {
   "display_name": "Python 3",
   "language": "python",
   "name": "python3"
  },
  "language_info": {
   "codemirror_mode": {
    "name": "ipython",
    "version": 3
   },
   "file_extension": ".py",
   "mimetype": "text/x-python",
   "name": "python",
   "nbconvert_exporter": "python",
   "pygments_lexer": "ipython3",
   "version": "3.6.13"
  }
 },
 "nbformat": 4,
 "nbformat_minor": 5
}
